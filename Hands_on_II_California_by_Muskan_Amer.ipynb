{
  "nbformat": 4,
  "nbformat_minor": 0,
  "metadata": {
    "colab": {
      "provenance": []
    },
    "kernelspec": {
      "name": "python3",
      "display_name": "Python 3"
    },
    "language_info": {
      "name": "python"
    }
  },
  "cells": [
    {
      "cell_type": "code",
      "source": [
        "# Import necessary libraries\n",
        "import pandas as pd\n",
        "from sklearn.model_selection import train_test_split\n",
        "from sklearn.linear_model import LogisticRegression\n",
        "from sklearn.metrics import accuracy_score, precision_score, recall_score, f1_score\n",
        "\n",
        "# Calculate the median house price and create a new target variable\n",
        "median_price = df['median_house_value'].median()\n",
        "df['price_category'] = df['median_house_value'].apply(lambda x: 'High' if x >= median_price else 'Low')\n",
        "\n",
        "# Define features and target\n",
        "X = df[['housing_median_age', 'total_rooms', 'total_bedrooms', 'population', 'households', 'median_income']]\n",
        "y = df['price_category']\n",
        "\n",
        "# Split data into training and testing sets\n",
        "X_train, X_test, y_train, y_test = train_test_split(X, y, test_size=0.2, random_state=42)\n",
        "\n",
        "# Train the logistic regression model with increased max_iter to avoid issues\n",
        "classifier = LogisticRegression(max_iter=200)\n",
        "classifier.fit(X_train, y_train)\n",
        "\n",
        "# Make predictions on the test set\n",
        "y_pred = classifier.predict(X_test)\n",
        "\n",
        "# Evaluate the model\n",
        "accuracy = accuracy_score(y_test, y_pred)\n",
        "precision = precision_score(y_test, y_pred, pos_label='High')\n",
        "recall = recall_score(y_test, y_pred, pos_label='High')\n",
        "f1 = f1_score(y_test, y_pred, pos_label='High')\n",
        "\n",
        "# Print the evaluation results\n",
        "print(\"Accuracy:\", accuracy)\n",
        "print(\"Precision:\", precision)\n",
        "print(\"Recall:\", recall)\n",
        "print(\"F1 Score:\", f1)\n"
      ],
      "metadata": {
        "colab": {
          "base_uri": "https://localhost:8080/"
        },
        "id": "Zpx5iDCqWasp",
        "outputId": "52435093-3650-45bd-9f18-598c83747351"
      },
      "execution_count": 10,
      "outputs": [
        {
          "output_type": "stream",
          "name": "stdout",
          "text": [
            "Accuracy: 0.7957848837209303\n",
            "Precision: 0.8092071611253197\n",
            "Recall: 0.7709551656920078\n",
            "F1 Score: 0.7896181682056401\n"
          ]
        }
      ]
    }
  ]
}
